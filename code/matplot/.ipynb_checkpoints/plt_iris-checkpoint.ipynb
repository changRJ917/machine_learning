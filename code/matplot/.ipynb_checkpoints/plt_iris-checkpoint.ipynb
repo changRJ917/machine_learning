{
 "cells": [
  {
   "cell_type": "code",
   "execution_count": 8,
   "metadata": {},
   "outputs": [
    {
     "data": {
      "image/png": "[encoded data removed]",
      "text/plain": [
       "<Figure size 432x288 with 1 Axes>"
      ]
     },
     "metadata": {},
     "output_type": "display_data"
    }
   ],
   "source": [
    "import numpy as np\n",
    "import matplotlib.pyplot as plt\n",
    "x = np.linspace(0,10,1000)\n",
    "y = np.sin(x)\n",
    "plt.figure()\n",
    "plt.plot(x,y,color='blue')\n",
    "plt.xlabel('Time(s)')\n",
    "plt.ylabel('volt')\n",
    "plt.title('helloCRJ')\n",
    "plt.ylim(-1.3,1.4)\n",
    "plt.show()\n"
   ]
  },
  {
   "cell_type": "code",
   "execution_count": 2,
   "metadata": {
    "scrolled": false
   },
   "outputs": [
    {
     "name": "stdout",
     "output_type": "stream",
     "text": [
      "   SepalLength  SepalWidth  PetalLength  PetalWidth         Name\n",
      "0          5.1         3.5          1.4         0.2  Iris-setosa\n",
      "1          4.9         3.0          1.4         0.2  Iris-setosa\n",
      "2          4.7         3.2          1.3         0.2  Iris-setosa\n",
      "3          4.6         3.1          1.5         0.2  Iris-setosa\n",
      "4          5.0         3.6          1.4         0.2  Iris-setosa\n",
      "5          5.4         3.9          1.7         0.4  Iris-setosa\n",
      "6          4.6         3.4          1.4         0.3  Iris-setosa\n",
      "7          5.0         3.4          1.5         0.2  Iris-setosa\n",
      "8          4.4         2.9          1.4         0.2  Iris-setosa\n",
      "9          4.9         3.1          1.5         0.1  Iris-setosa\n",
      "     SepalLength  SepalWidth  PetalLength  PetalWidth            Name\n",
      "140          6.7         3.1          5.6         2.4  Iris-virginica\n",
      "141          6.9         3.1          5.1         2.3  Iris-virginica\n",
      "142          5.8         2.7          5.1         1.9  Iris-virginica\n",
      "143          6.8         3.2          5.9         2.3  Iris-virginica\n",
      "144          6.7         3.3          5.7         2.5  Iris-virginica\n",
      "145          6.7         3.0          5.2         2.3  Iris-virginica\n",
      "146          6.3         2.5          5.0         1.9  Iris-virginica\n",
      "147          6.5         3.0          5.2         2.0  Iris-virginica\n",
      "148          6.2         3.4          5.4         2.3  Iris-virginica\n",
      "149          5.9         3.0          5.1         1.8  Iris-virginica\n",
      "SepalLength    float64\n",
      "SepalWidth     float64\n",
      "PetalLength    float64\n",
      "PetalWidth     float64\n",
      "Name            object\n",
      "dtype: object\n",
      "   SepalLength  SepalWidth  PetalLength  PetalWidth         Name\n",
      "0          5.1         3.5          1.4         0.2  Iris-setosa\n",
      "1          4.9         3.0          1.4         0.2  Iris-setosa\n",
      "2          4.7         3.2          1.3         0.2  Iris-setosa\n",
      "3          4.6         3.1          1.5         0.2  Iris-setosa\n",
      "4          5.0         3.6          1.4         0.2  Iris-setosa\n",
      "5          5.4         3.9          1.7         0.4  Iris-setosa\n",
      "6          4.6         3.4          1.4         0.3  Iris-setosa\n",
      "7          5.0         3.4          1.5         0.2  Iris-setosa\n",
      "8          4.4         2.9          1.4         0.2  Iris-setosa\n",
      "9          4.9         3.1          1.5         0.1  Iris-setosa\n",
      "    SepalLength  SepalWidth  PetalLength  PetalWidth             Name\n",
      "50          7.0         3.2          4.7         1.4  Iris-versicolor\n",
      "51          6.4         3.2          4.5         1.5  Iris-versicolor\n",
      "52          6.9         3.1          4.9         1.5  Iris-versicolor\n",
      "53          5.5         2.3          4.0         1.3  Iris-versicolor\n",
      "54          6.5         2.8          4.6         1.5  Iris-versicolor\n",
      "55          5.7         2.8          4.5         1.3  Iris-versicolor\n",
      "56          6.3         3.3          4.7         1.6  Iris-versicolor\n",
      "57          4.9         2.4          3.3         1.0  Iris-versicolor\n",
      "58          6.6         2.9          4.6         1.3  Iris-versicolor\n",
      "59          5.2         2.7          3.9         1.4  Iris-versicolor\n",
      "     SepalLength  SepalWidth  PetalLength  PetalWidth            Name\n",
      "100          6.3         3.3          6.0         2.5  Iris-virginica\n",
      "101          5.8         2.7          5.1         1.9  Iris-virginica\n",
      "102          7.1         3.0          5.9         2.1  Iris-virginica\n",
      "103          6.3         2.9          5.6         1.8  Iris-virginica\n",
      "104          6.5         3.0          5.8         2.2  Iris-virginica\n",
      "105          7.6         3.0          6.6         2.1  Iris-virginica\n",
      "106          4.9         2.5          4.5         1.7  Iris-virginica\n",
      "107          7.3         2.9          6.3         1.8  Iris-virginica\n",
      "108          6.7         2.5          5.8         1.8  Iris-virginica\n",
      "109          7.2         3.6          6.1         2.5  Iris-virginica\n"
     ]
    },
    {
     "data": {
      "image/png": "[encoded data removed]",
      "text/plain": [
       "<Figure size 432x288 with 1 Axes>"
      ]
     },
     "metadata": {},
     "output_type": "display_data"
    }
   ],
   "source": [
    "import matplotlib.pyplot as plt\n",
    "import numpy as np\n",
    "import pandas as pd\n",
    "\n",
    "def scatterplot(x_data, y_data, x_label=\"\", y_label=\"\", title=\"\", color = \"r\", yscale_log=False):\n",
    "    \n",
    "    # Create the plot object\n",
    "    _, ax = plt.subplots()\n",
    "\n",
    "    # Plot the data, set the size (s), color and transparency (alpha)\n",
    "    # of the points\n",
    "    ax.scatter(x_data, y_data, s = 10, color = color, alpha = 0.75)\n",
    "\n",
    "    if yscale_log == True:\n",
    "        ax.set_yscale('log')\n",
    "\n",
    "    # Label the axes and provide a title\n",
    "    ax.set_title(title)\n",
    "    ax.set_xlabel(x_label)\n",
    "    ax.set_ylabel(y_label)\n",
    "\n",
    "def main():\n",
    "    iris = pd.read_csv('iris.csv')\n",
    "    print(iris.head(10))\n",
    "    print(iris.tail(10))\n",
    "    print(iris.dtypes)\n",
    "    iris1=iris[iris['Name'].isin(['Iris-setosa'])]\n",
    "    print(iris1.head(10))\n",
    "        \n",
    "    iris2=iris[iris['Name'].isin(['Iris-versicolor'])]\n",
    "    print(iris2.head(10))\n",
    "\n",
    "    iris3=iris[iris['Name'].isin(['Iris-virginica'])]\n",
    "    print(iris3.head(10))\n",
    "\n",
    "    _, ax = plt.subplots()\n",
    "\n",
    "    ax.scatter(iris1['SepalLength'], iris1['SepalWidth'], s = 30, color = \"r\", alpha = 0.75)\n",
    "    ax.scatter(iris2['SepalLength'], iris2['SepalWidth'], s = 30, color = \"b\", alpha = 0.75)\n",
    "    ax.scatter(iris3['SepalLength'], iris3['SepalWidth'], s = 30, color = \"y\", alpha = 0.75)\n",
    "    ax.set_title(\"iris\")\n",
    "    ax.set_xlabel(\"SepalLength\")\n",
    "    ax.set_ylabel(\"SepalWidth\")\n",
    "    plt.legend([\"Iris-setosa\",\"Iris-versicolor\",\"Iris-virginica\"])\n",
    "    plt.show()\n",
    "\n",
    "if __name__=='__main__':\n",
    "    main()"
   ]
  },
  {
   "cell_type": "code",
   "execution_count": 26,
   "metadata": {},
   "outputs": [
    {
     "data": {
      "text/html": [
       "<div>\n",
       "<style scoped>\n",
       "    .dataframe tbody tr th:only-of-type {\n",
       "        vertical-align: middle;\n",
       "    }\n",
       "\n",
       "    .dataframe tbody tr th {\n",
       "        vertical-align: top;\n",
       "    }\n",
       "\n",
       "    .dataframe thead th {\n",
       "        text-align: right;\n",
       "    }\n",
       "</style>\n",
       "<table border=\"1\" class=\"dataframe\">\n",
       "  <thead>\n",
       "    <tr style=\"text-align: right;\">\n",
       "      <th></th>\n",
       "      <th>SepalLength</th>\n",
       "      <th>SepalWidth</th>\n",
       "      <th>PetalLength</th>\n",
       "      <th>PetalWidth</th>\n",
       "      <th>Name</th>\n",
       "    </tr>\n",
       "  </thead>\n",
       "  <tbody>\n",
       "    <tr>\n",
       "      <th>0</th>\n",
       "      <td>5.1</td>\n",
       "      <td>3.5</td>\n",
       "      <td>1.4</td>\n",
       "      <td>0.2</td>\n",
       "      <td>Iris-setosa</td>\n",
       "    </tr>\n",
       "    <tr>\n",
       "      <th>1</th>\n",
       "      <td>4.9</td>\n",
       "      <td>3.0</td>\n",
       "      <td>1.4</td>\n",
       "      <td>0.2</td>\n",
       "      <td>Iris-setosa</td>\n",
       "    </tr>\n",
       "    <tr>\n",
       "      <th>2</th>\n",
       "      <td>4.7</td>\n",
       "      <td>3.2</td>\n",
       "      <td>1.3</td>\n",
       "      <td>0.2</td>\n",
       "      <td>Iris-setosa</td>\n",
       "    </tr>\n",
       "    <tr>\n",
       "      <th>3</th>\n",
       "      <td>4.6</td>\n",
       "      <td>3.1</td>\n",
       "      <td>1.5</td>\n",
       "      <td>0.2</td>\n",
       "      <td>Iris-setosa</td>\n",
       "    </tr>\n",
       "    <tr>\n",
       "      <th>4</th>\n",
       "      <td>5.0</td>\n",
       "      <td>3.6</td>\n",
       "      <td>1.4</td>\n",
       "      <td>0.2</td>\n",
       "      <td>Iris-setosa</td>\n",
       "    </tr>\n",
       "  </tbody>\n",
       "</table>\n",
       "</div>"
      ],
      "text/plain": [
       "   SepalLength  SepalWidth  PetalLength  PetalWidth         Name\n",
       "0          5.1         3.5          1.4         0.2  Iris-setosa\n",
       "1          4.9         3.0          1.4         0.2  Iris-setosa\n",
       "2          4.7         3.2          1.3         0.2  Iris-setosa\n",
       "3          4.6         3.1          1.5         0.2  Iris-setosa\n",
       "4          5.0         3.6          1.4         0.2  Iris-setosa"
      ]
     },
     "execution_count": 26,
     "metadata": {},
     "output_type": "execute_result"
    }
   ],
   "source": [
    "from sklearn.datasets import load_iris\n",
    "iris = pd.read_csv('iris.csv')\n",
    "iris.head()"
   ]
  },
  {
   "cell_type": "code",
   "execution_count": null,
   "metadata": {},
   "outputs": [],
   "source": []
  }
 ],
 "metadata": {
  "kernelspec": {
   "display_name": "Python 3",
   "language": "python",
   "name": "python3"
  },
  "language_info": {
   "codemirror_mode": {
    "name": "ipython",
    "version": 3
   },
   "file_extension": ".py",
   "mimetype": "text/x-python",
   "name": "python",
   "nbconvert_exporter": "python",
   "pygments_lexer": "ipython3",
   "version": "3.6.5"
  }
 },
 "nbformat": 4,
 "nbformat_minor": 2
}
